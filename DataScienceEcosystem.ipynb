{
  "metadata": {
    "language_info": {
      "name": ""
    },
    "kernelspec": {
      "name": "python",
      "display_name": "Python (Pyodide)",
      "language": "python"
    }
  },
  "nbformat_minor": 4,
  "nbformat": 4,
  "cells": [
    {
      "cell_type": "markdown",
      "source": "                                                  # Data Science Tools and Ecosystem",
      "metadata": {}
    },
    {
      "cell_type": "code",
      "source": "                                   In this notebook, Data Science Tools and Ecosystem are summarized.\n                                   ",
      "metadata": {},
      "execution_count": null,
      "outputs": []
    },
    {
      "cell_type": "code",
      "source": "      Some of the popular languages that Data Scientists use are:\n      1 Python\n      2 R\n      3 SQL\n      4 Julia\n      5 Scala\n      ",
      "metadata": {},
      "execution_count": null,
      "outputs": []
    },
    {
      "cell_type": "code",
      "source": "      Some of the commonly used libraries used by Data Scientists include:\n      NumPy\n1 Pandas\n2 Matplotlib\n3 Seaborn\n4 Scikit-learn\n5 TensorFlow\n6 PyTorch\n7 Keras\n8 NLTK (Natural Language Toolkit)\n9 SpaCy\n",
      "metadata": {},
      "execution_count": null,
      "outputs": []
    },
    {
      "cell_type": "code",
      "source": "\n| Data Science Tools      |\n|-------------------------|\n| Jupyter Notebooks       |\n| RStudio                 |\n| VS Code with Python ext.|\n\n",
      "metadata": {},
      "execution_count": null,
      "outputs": []
    },
    {
      "cell_type": "code",
      "source": "### Examples of Evaluating Arithmetic Expressions in Python\n\nBelow are a few examples of evaluating arithmetic expressions in Python.\n### Examples of Evaluating Arithmetic Expressions in Python\n\nBelow are a few examples demonstrating how to evaluate arithmetic expressions in Python:\n\n1. **Addition:**\n   ```python\n   result = 5 + 3\n   print(result)  # Output: 8\nSubstration\nresult = 10 - 4\nprint(result)  # Output: 6\n\nresult = 7 * 2\nprint(result)  # Output: 14\n\nresult = 15 / 3\nprint(result)  # Output: 5.0\n\nresult = 2 ** 4\nprint(result)  # Output: 16\n\n\n",
      "metadata": {},
      "execution_count": null,
      "outputs": []
    },
    {
      "cell_type": "code",
      "source": "# This is a simple arithmetic expression to multiply then add integers.\nresult = (3 * 4) + 5\nprint(result)\n",
      "metadata": {
        "trusted": true
      },
      "execution_count": null,
      "outputs": []
    },
    {
      "cell_type": "code",
      "source": "print(result)",
      "metadata": {
        "trusted": true
      },
      "execution_count": null,
      "outputs": []
    },
    {
      "cell_type": "code",
      "source": "17",
      "metadata": {},
      "execution_count": null,
      "outputs": []
    },
    {
      "cell_type": "code",
      "source": "# This will convert 200 minutes to hours by dividing by 60.\nminutes = 200\nhours = minutes / 60\n\n# Display the result\nhours\n",
      "metadata": {},
      "execution_count": null,
      "outputs": []
    },
    {
      "cell_type": "code",
      "source": "print(hours)\n",
      "metadata": {
        "trusted": true
      },
      "execution_count": null,
      "outputs": []
    },
    {
      "cell_type": "code",
      "source": "3.3333",
      "metadata": {},
      "execution_count": null,
      "outputs": []
    },
    {
      "cell_type": "code",
      "source": "## Objectives:\n\n- Create a Jupyter Notebook named \"DataScienceEcosystem.ipynb.\"\n- Create a markdown cell with the title \"Data Science Tools and Ecosystem\" using H1 style heading.\n- Write an introductory sentence about the notebook.\n- Create a markdown cell to list popular data science languages with an ordered list.\n- Create a markdown cell to list commonly used data science libraries with an ordered list.\n- Create a markdown cell with a table of three development environment open source tools used in data science.\n- Create a markdown cell introducing arithmetic expression examples.\n- Create a code cell to multiply and add numbers and take a screenshot of the output.\n- Create a code cell to convert 200 minutes to hours and take a screenshot of the output.\n",
      "metadata": {},
      "execution_count": null,
      "outputs": []
    },
    {
      "cell_type": "code",
      "source": "## Author:\n\nInsha Yaqoob\n",
      "metadata": {},
      "execution_count": null,
      "outputs": []
    }
  ]
}